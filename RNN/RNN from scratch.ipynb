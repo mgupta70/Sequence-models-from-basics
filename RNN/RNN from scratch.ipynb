{
 "cells": [
  {
   "cell_type": "code",
   "execution_count": 26,
   "id": "fe3bb8f5",
   "metadata": {},
   "outputs": [],
   "source": [
    "import torch\n",
    "import torch.nn as nn\n",
    "import torch.nn.functional as F\n",
    "import torch.optim as optim\n",
    "from torch import tensor\n",
    "import random\n",
    "import unicodedata, string, glob, os\n",
    "import matplotlib.pyplot as plt"
   ]
  },
  {
   "attachments": {
    "RNN_schema.png": {
     "image/png": "[encoded data removed]"
    }
   },
   "cell_type": "markdown",
   "id": "32f9f00e",
   "metadata": {},
   "source": [
    "![RNN_schema.png](attachment:RNN_schema.png)"
   ]
  },
  {
   "cell_type": "markdown",
   "id": "962806b6",
   "metadata": {},
   "source": [
    "### A. Data preparation\n",
    "- [x] Create alphabet dictionary (which will include some special characters like .,;')\n",
    "- [x] Load ***.txt*** data into Python variables\n",
    "    - [x] while loading - convert to ascii format: For example: ex ä ->a\n",
    "- [x] Convert words into numbers by stacking one-hot encoding for each alphabets\n",
    "- [x] Create input and output tensors"
   ]
  },
  {
   "cell_type": "code",
   "execution_count": 2,
   "id": "9e66f7c9",
   "metadata": {},
   "outputs": [
    {
     "data": {
      "text/plain": [
       "'abcdefghijklmnopqrstuvwxyzABCDEFGHIJKLMNOPQRSTUVWXYZ'"
      ]
     },
     "execution_count": 2,
     "metadata": {},
     "output_type": "execute_result"
    }
   ],
   "source": [
    "string.ascii_letters"
   ]
  },
  {
   "cell_type": "markdown",
   "id": "6c579143",
   "metadata": {},
   "source": [
    "##### A1. Create Alphabet Dictionary"
   ]
  },
  {
   "cell_type": "code",
   "execution_count": 3,
   "id": "0183baa0",
   "metadata": {},
   "outputs": [
    {
     "name": "stdout",
     "output_type": "stream",
     "text": [
      "abcdefghijklmnopqrstuvwxyzABCDEFGHIJKLMNOPQRSTUVWXYZ.,;''\n",
      "57\n"
     ]
    }
   ],
   "source": [
    "all_letters = string.ascii_letters + \".,;''\"\n",
    "print(all_letters)\n",
    "print(len(all_letters))"
   ]
  },
  {
   "cell_type": "markdown",
   "id": "2989eab8",
   "metadata": {},
   "source": [
    "##### A2. Load .txt data into Python variables\n",
    "- [x] read the .txt files and get the data from txt into python dictionary so that we can use the data for computation"
   ]
  },
  {
   "cell_type": "code",
   "execution_count": 4,
   "id": "816610ec",
   "metadata": {},
   "outputs": [],
   "source": [
    "def findFiles(path):\n",
    "    return glob.glob(path)"
   ]
  },
  {
   "cell_type": "code",
   "execution_count": 5,
   "id": "a50c3939",
   "metadata": {},
   "outputs": [
    {
     "data": {
      "text/plain": [
       "['data/names\\\\Arabic.txt',\n",
       " 'data/names\\\\Chinese.txt',\n",
       " 'data/names\\\\Czech.txt',\n",
       " 'data/names\\\\Dutch.txt',\n",
       " 'data/names\\\\English.txt',\n",
       " 'data/names\\\\French.txt',\n",
       " 'data/names\\\\German.txt',\n",
       " 'data/names\\\\Greek.txt',\n",
       " 'data/names\\\\Irish.txt',\n",
       " 'data/names\\\\Italian.txt',\n",
       " 'data/names\\\\Japanese.txt',\n",
       " 'data/names\\\\Korean.txt',\n",
       " 'data/names\\\\Polish.txt',\n",
       " 'data/names\\\\Portuguese.txt',\n",
       " 'data/names\\\\Russian.txt',\n",
       " 'data/names\\\\Scottish.txt',\n",
       " 'data/names\\\\Spanish.txt',\n",
       " 'data/names\\\\Vietnamese.txt']"
      ]
     },
     "execution_count": 5,
     "metadata": {},
     "output_type": "execute_result"
    }
   ],
   "source": [
    "path = 'data/names/*.txt' \n",
    "findFiles(path)"
   ]
  },
  {
   "cell_type": "code",
   "execution_count": 6,
   "id": "0adf4181",
   "metadata": {},
   "outputs": [],
   "source": [
    "# before we get all names of every language into a dictionary, we should have all characters in ascii format \n",
    "# For example: ex ä ->a\n",
    "\n",
    "def unicode_to_ascii(name):\n",
    "    return \"\".join(c for c in unicodedata.normalize('NFD',name)\n",
    "                  if unicodedata.category(c)!='Mn'\n",
    "                  and c in all_letters)"
   ]
  },
  {
   "cell_type": "code",
   "execution_count": 7,
   "id": "8bf846a3",
   "metadata": {},
   "outputs": [
    {
     "data": {
      "text/plain": [
       "'Sneha'"
      ]
     },
     "execution_count": 7,
     "metadata": {},
     "output_type": "execute_result"
    }
   ],
   "source": [
    "# check\n",
    "name = 'Snehä'\n",
    "unicode_to_ascii(name)"
   ]
  },
  {
   "cell_type": "code",
   "execution_count": 8,
   "id": "8c0b5143",
   "metadata": {},
   "outputs": [],
   "source": [
    "def get_list_of_words(path):\n",
    "    all_categories = []; category_lines = {}\n",
    "    for fname in findFiles(path):\n",
    "        list_of_words = open(fname, encoding = 'utf-8').read().strip().split('\\n') # experiment with each -> .read().strip().split('\\n')\n",
    "        language = fname.split('\\\\')[-1].split('.')[0]\n",
    "        \n",
    "        #### convert to ascii #####\n",
    "        list_of_words_ascii = []\n",
    "        for word in list_of_words:\n",
    "            list_of_words_ascii.append(unicode_to_ascii(word))\n",
    "        ########################\n",
    "        all_categories.append(language)\n",
    "        category_lines[language] = list_of_words_ascii # use updated list of words in ascii format\n",
    "        \n",
    "    return all_categories, category_lines"
   ]
  },
  {
   "cell_type": "code",
   "execution_count": 9,
   "id": "1897198f",
   "metadata": {},
   "outputs": [],
   "source": [
    "all_categories, category_lines = get_list_of_words(path)"
   ]
  },
  {
   "cell_type": "code",
   "execution_count": 10,
   "id": "e4f54c8e",
   "metadata": {},
   "outputs": [
    {
     "data": {
      "text/plain": [
       "(18,\n",
       " ['Arabic',\n",
       "  'Chinese',\n",
       "  'Czech',\n",
       "  'Dutch',\n",
       "  'English',\n",
       "  'French',\n",
       "  'German',\n",
       "  'Greek',\n",
       "  'Irish',\n",
       "  'Italian',\n",
       "  'Japanese',\n",
       "  'Korean',\n",
       "  'Polish',\n",
       "  'Portuguese',\n",
       "  'Russian',\n",
       "  'Scottish',\n",
       "  'Spanish',\n",
       "  'Vietnamese'])"
      ]
     },
     "execution_count": 10,
     "metadata": {},
     "output_type": "execute_result"
    }
   ],
   "source": [
    "len(all_categories), all_categories"
   ]
  },
  {
   "cell_type": "code",
   "execution_count": 11,
   "id": "b1466127",
   "metadata": {},
   "outputs": [],
   "source": [
    "# # check\n",
    "# category_lines.keys(), category_lines['Chinese']"
   ]
  },
  {
   "cell_type": "markdown",
   "id": "217c64fe",
   "metadata": {},
   "source": [
    "##### A3. Convert word into matrices/ tensors by stacking one-hot embedding of alphabets"
   ]
  },
  {
   "cell_type": "code",
   "execution_count": 12,
   "id": "bd8f9ef9",
   "metadata": {},
   "outputs": [
    {
     "name": "stdout",
     "output_type": "stream",
     "text": [
      "all_letters:  abcdefghijklmnopqrstuvwxyzABCDEFGHIJKLMNOPQRSTUVWXYZ.,;''\n",
      "Index of c =  2\n"
     ]
    },
    {
     "data": {
      "text/plain": [
       "tensor([[0., 0., 1., 0., 0., 0., 0., 0., 0., 0., 0., 0., 0., 0., 0., 0., 0., 0.,\n",
       "         0., 0., 0., 0., 0., 0., 0., 0., 0., 0., 0., 0., 0., 0., 0., 0., 0., 0.,\n",
       "         0., 0., 0., 0., 0., 0., 0., 0., 0., 0., 0., 0., 0., 0., 0., 0., 0., 0.,\n",
       "         0., 0., 0.]])"
      ]
     },
     "execution_count": 12,
     "metadata": {},
     "output_type": "execute_result"
    }
   ],
   "source": [
    "name = 'cab'\n",
    "print('all_letters: ', all_letters)\n",
    "print('Index of c = ', all_letters.find('c'))\n",
    "\n",
    "def alphabet_to_tensor(alphabet):\n",
    "    one_hot = torch.zeros(1,len(all_letters))\n",
    "    idx = all_letters.find(alphabet)\n",
    "    one_hot[0][idx]=1\n",
    "    return one_hot\n",
    "    \n",
    "alphabet_to_tensor('c')"
   ]
  },
  {
   "cell_type": "code",
   "execution_count": 13,
   "id": "5afdf66c",
   "metadata": {},
   "outputs": [],
   "source": [
    "def name_to_tensor(name):\n",
    "    return torch.stack([alphabet_to_tensor(alphabet) for alphabet in name])"
   ]
  },
  {
   "cell_type": "code",
   "execution_count": 14,
   "id": "184ad7b4",
   "metadata": {},
   "outputs": [
    {
     "data": {
      "text/plain": [
       "tensor([[[0., 0., 1., 0., 0., 0., 0., 0., 0., 0., 0., 0., 0., 0., 0., 0., 0.,\n",
       "          0., 0., 0., 0., 0., 0., 0., 0., 0., 0., 0., 0., 0., 0., 0., 0., 0.,\n",
       "          0., 0., 0., 0., 0., 0., 0., 0., 0., 0., 0., 0., 0., 0., 0., 0., 0.,\n",
       "          0., 0., 0., 0., 0., 0.]],\n",
       "\n",
       "        [[1., 0., 0., 0., 0., 0., 0., 0., 0., 0., 0., 0., 0., 0., 0., 0., 0.,\n",
       "          0., 0., 0., 0., 0., 0., 0., 0., 0., 0., 0., 0., 0., 0., 0., 0., 0.,\n",
       "          0., 0., 0., 0., 0., 0., 0., 0., 0., 0., 0., 0., 0., 0., 0., 0., 0.,\n",
       "          0., 0., 0., 0., 0., 0.]],\n",
       "\n",
       "        [[0., 1., 0., 0., 0., 0., 0., 0., 0., 0., 0., 0., 0., 0., 0., 0., 0.,\n",
       "          0., 0., 0., 0., 0., 0., 0., 0., 0., 0., 0., 0., 0., 0., 0., 0., 0.,\n",
       "          0., 0., 0., 0., 0., 0., 0., 0., 0., 0., 0., 0., 0., 0., 0., 0., 0.,\n",
       "          0., 0., 0., 0., 0., 0.]]])"
      ]
     },
     "execution_count": 14,
     "metadata": {},
     "output_type": "execute_result"
    }
   ],
   "source": [
    "name_to_tensor('cab')"
   ]
  },
  {
   "cell_type": "markdown",
   "id": "41f81ec6",
   "metadata": {},
   "source": [
    "##### A4. Create input and output tensors"
   ]
  },
  {
   "cell_type": "code",
   "execution_count": 15,
   "id": "74f24608",
   "metadata": {},
   "outputs": [],
   "source": [
    "def load_datapoint():\n",
    "    ''' randomly select a language and then randomly select a word in it. \n",
    "    Return the output_tensor (one-hot) i.e. selected language and input_word in tensor format'''\n",
    "    \n",
    "    language_idx = random.sample(range(len(all_categories)),1)[0] # Sample 1 value and because it returns as list, index in it\n",
    "    language = all_categories[language_idx]\n",
    "    output_tensor = tensor([language_idx], dtype = torch.long) # needs to be integral and not (1,18) tensor\n",
    "    \n",
    "    \n",
    "    language_words = category_lines[language]\n",
    "    word_idx = random.sample(range(len(language_words)),1)[0]\n",
    "    word = language_words[word_idx]\n",
    "    word_tensor = name_to_tensor(word)\n",
    "    \n",
    "    return word, language, word_tensor, output_tensor"
   ]
  },
  {
   "cell_type": "code",
   "execution_count": 16,
   "id": "2861b263",
   "metadata": {},
   "outputs": [
    {
     "name": "stdout",
     "output_type": "stream",
     "text": [
      "Klerk Dutch\n",
      "Zdunowski Polish\n",
      "Coma Czech\n",
      "Porcher French\n",
      "Adamoli Italian\n",
      "Pokorny Polish\n",
      "Tan Chinese\n",
      "Ferro Portuguese\n",
      "Munro Scottish\n",
      "Yasuda Japanese\n"
     ]
    }
   ],
   "source": [
    "# check\n",
    "for i in range(10):\n",
    "    word, language, word_tensor, output_tensor = load_datapoint()\n",
    "    print(word, language)\n",
    "    "
   ]
  },
  {
   "cell_type": "markdown",
   "id": "038d628b",
   "metadata": {},
   "source": [
    "### B. Model development and training\n",
    "- [x] Create RNN module\n",
    "- [x] Create training function\n",
    "- [x] Create evaulation function\n",
    "- [ ] Monitor training and evaluation performance by tensorboard\n",
    "- [x] Monitor training and evaluation performance (in Env if no tensorboard)"
   ]
  },
  {
   "cell_type": "markdown",
   "id": "f22d62e9",
   "metadata": {},
   "source": [
    "##### B1. Create RNN module\n",
    "- Refer example for creating custom Pytorch `Class`: https://pytorch.org/tutorials/beginner/introyt/modelsyt_tutorial.html\n",
    "   - Step-1: In `def __init__(` : we define the architecture\n",
    "   - Step-2: In `forward`: we define the flow of calculations\n",
    "   \n",
    "1. input_sz = len of features : Suppose (1,57) : 1 - one alphabet at a time, possibilities = 57 [One-hot vector]\n",
    "1. hidden_sz = size of hidden state **(a hyperparameter)**\n",
    "1. output_sz = number of classes : Total = 18"
   ]
  },
  {
   "cell_type": "code",
   "execution_count": 17,
   "id": "11a3e6a7",
   "metadata": {},
   "outputs": [],
   "source": [
    "# # helpful to write before creating the RNN module\n",
    "# input_sz = 57\n",
    "# hidden_sz = 32\n",
    "# output_sz = 18"
   ]
  },
  {
   "cell_type": "code",
   "execution_count": 18,
   "id": "2451fb29",
   "metadata": {},
   "outputs": [],
   "source": [
    "class RNN(nn.Module):\n",
    "    def __init__(self, input_sz, hidden_sz, output_sz):\n",
    "        super(RNN, self).__init__()\n",
    "        self.hidden_sz = hidden_sz\n",
    "        self.i2h = nn.Linear(input_sz+hidden_sz, hidden_sz)\n",
    "        self.i2o = nn.Linear(input_sz+hidden_sz, output_sz)\n",
    "        self.softmax = nn.LogSoftmax(dim=1)\n",
    "\n",
    "    def forward(self, input, hidden):\n",
    "        \n",
    "        combined = torch.cat((input, hidden),dim=1) # cat((1,57),(1,128), dim=1) -> (1, 185)\n",
    "        hidden = self.i2h(combined) # update the hidden\n",
    "        output = self.i2o(combined)\n",
    "#         output = nn.LogSoftmax(output)## wont work. We need to define this in __init__ module\n",
    "        output = self.softmax(output)\n",
    "        return hidden, output\n",
    "    \n",
    "    def init_hidden(self):\n",
    "        return torch.zeros((1, self.hidden_sz))\n"
   ]
  },
  {
   "cell_type": "code",
   "execution_count": 19,
   "id": "960deddc",
   "metadata": {},
   "outputs": [
    {
     "data": {
      "text/plain": [
       "RNN(\n",
       "  (i2h): Linear(in_features=185, out_features=128, bias=True)\n",
       "  (i2o): Linear(in_features=185, out_features=18, bias=True)\n",
       "  (softmax): LogSoftmax(dim=1)\n",
       ")"
      ]
     },
     "execution_count": 19,
     "metadata": {},
     "output_type": "execute_result"
    }
   ],
   "source": [
    "rnn = RNN(input_sz=57, hidden_sz=128, output_sz=18)\n",
    "rnn"
   ]
  },
  {
   "cell_type": "markdown",
   "id": "43abe53f",
   "metadata": {},
   "source": [
    "##### B2. Create training function"
   ]
  },
  {
   "cell_type": "code",
   "execution_count": 20,
   "id": "cdf8e607",
   "metadata": {},
   "outputs": [],
   "source": [
    "def label_to_language(pred):\n",
    "    return all_categories[torch.argmax(pred)]"
   ]
  },
  {
   "cell_type": "code",
   "execution_count": 21,
   "id": "1f668005",
   "metadata": {},
   "outputs": [],
   "source": [
    "criterion = nn.NLLLoss()\n",
    "optimizer = optim.SGD(rnn.parameters(), lr=0.005)"
   ]
  },
  {
   "cell_type": "code",
   "execution_count": 22,
   "id": "eb4cbd3c",
   "metadata": {},
   "outputs": [],
   "source": [
    "def train(input_tensor, output_tensor):\n",
    "    \n",
    "    hidden = rnn.init_hidden()\n",
    "    output_tensor = output_tensor.long()\n",
    "    \n",
    "    for i in range(input_tensor.size()[0]):\n",
    "        hidden, m_output = rnn(input_tensor[i], hidden)\n",
    "        \n",
    "    loss = criterion(m_output,output_tensor) # loss calculated at the end. why?\n",
    "        \n",
    "    # Backpropagation\n",
    "    optimizer.zero_grad()\n",
    "    loss.backward()\n",
    "    optimizer.step()\n",
    "\n",
    "    return loss.item(), m_output"
   ]
  },
  {
   "cell_type": "code",
   "execution_count": 23,
   "id": "4651ed94",
   "metadata": {},
   "outputs": [
    {
     "name": "stdout",
     "output_type": "stream",
     "text": [
      "1 : Actual:  Scottish , Pred:  Italian\n",
      "\n",
      "2 : Actual:  Italian , Pred:  Japanese\n",
      "\n",
      "3 : Actual:  Czech , Pred:  Portuguese\n",
      "\n",
      "4 : Actual:  Portuguese , Pred:  Dutch\n",
      "\n",
      "5 : Actual:  Czech , Pred:  Japanese\n",
      "\n",
      "6 : Actual:  Japanese , Pred:  Korean\n",
      "\n",
      "7 : Actual:  Czech , Pred:  Italian\n",
      "\n",
      "8 : Actual:  Vietnamese , Pred:  Vietnamese\n",
      "\n",
      "9 : Actual:  Arabic , Pred:  Arabic\n",
      "\n",
      "10 : Actual:  German , Pred:  German\n",
      "\n",
      "11 : Actual:  Chinese , Pred:  Chinese\n",
      "\n",
      "12 : Actual:  Greek , Pred:  Greek\n",
      "\n",
      "13 : Actual:  Portuguese , Pred:  Portuguese\n",
      "\n",
      "14 : Actual:  Chinese , Pred:  Chinese\n",
      "\n",
      "15 : Actual:  Czech , Pred:  English\n",
      "\n",
      "16 : Actual:  Greek , Pred:  Greek\n",
      "\n",
      "17 : Actual:  Czech , Pred:  Polish\n",
      "\n",
      "18 : Actual:  French , Pred:  Arabic\n",
      "\n",
      "19 : Actual:  Arabic , Pred:  Japanese\n",
      "\n",
      "20 : Actual:  French , Pred:  French\n",
      "\n"
     ]
    }
   ],
   "source": [
    "itrs = 100000\n",
    "plot_steps = 5000\n",
    "\n",
    "train_losses = []\n",
    "train_loss = 0\n",
    "counter=0\n",
    "for itr in range(itrs):\n",
    "    \n",
    "    word, language, input_tensor, output_tensor = load_datapoint()\n",
    "    error, pred  = train(input_tensor, output_tensor)\n",
    "    train_loss+=error\n",
    "    \n",
    "    if itr%plot_steps == 0:\n",
    "        train_losses.append(train_loss/plot_steps)\n",
    "        train_loss = 0\n",
    "        counter+=1\n",
    "        print(counter, ':', 'Actual: ', language, ', Pred: ', label_to_language(pred))\n",
    "        print('')\n",
    "        "
   ]
  },
  {
   "cell_type": "code",
   "execution_count": 24,
   "id": "c9956555",
   "metadata": {},
   "outputs": [
    {
     "name": "stdout",
     "output_type": "stream",
     "text": [
      "11603/20074 correct\n"
     ]
    }
   ],
   "source": [
    "c_counter = 0\n",
    "t_counter = 0\n",
    "rnn.eval()\n",
    "all_preds = []\n",
    "all_trues = []\n",
    "with torch.no_grad():\n",
    "    for k in range(len(all_categories)):\n",
    "        label = torch.tensor([k], dtype = torch.long)\n",
    "        lang = all_categories[k]\n",
    "        lang_words = category_lines[lang]\n",
    "        for word in lang_words:\n",
    "            input_tensor = name_to_tensor(word)\n",
    "            \n",
    "            hidden = rnn.init_hidden()       \n",
    "            for i in range(input_tensor.shape[0]):\n",
    "                m_input = input_tensor[i]\n",
    "                hidden, m_output = rnn(m_input, hidden)\n",
    "            \n",
    "            \n",
    "            pred = torch.argmax(m_output).item()\n",
    "            pred_lang = all_categories[pred]\n",
    "            \n",
    "            if pred_lang==lang:\n",
    "                c_counter+=1\n",
    "                \n",
    "            t_counter+=1\n",
    "            all_preds.append(pred)\n",
    "            all_trues.append(label)\n",
    "            \n",
    "print(\"{}/{} correct\".format(c_counter,t_counter))"
   ]
  },
  {
   "cell_type": "code",
   "execution_count": 25,
   "id": "5fdb777e",
   "metadata": {},
   "outputs": [
    {
     "data": {
      "text/plain": [
       "<matplotlib.legend.Legend at 0x24eb9d4f8e0>"
      ]
     },
     "execution_count": 25,
     "metadata": {},
     "output_type": "execute_result"
    },
    {
     "data": {
      "image/png": "[encoded data removed]",
      "text/plain": [
       "<Figure size 500x600 with 1 Axes>"
      ]
     },
     "metadata": {},
     "output_type": "display_data"
    }
   ],
   "source": [
    "plt.figure(figsize=(5,6))\n",
    "plt.plot(train_losses[1:], label = 'train loss')\n",
    "plt.legend()"
   ]
  },
  {
   "cell_type": "markdown",
   "id": "8057e1e5",
   "metadata": {},
   "source": [
    "#### References\n",
    "\n",
    "1.  Pytorch Link: https://pytorch.org/tutorials/intermediate/char_rnn_classification_tutorial.html\n",
    "1.  Video walkthrough: https://www.youtube.com/watch?v=WEV61GmmPrk&ab_channel=PatrickLoeber"
   ]
  },
  {
   "cell_type": "code",
   "execution_count": null,
   "id": "8ddf6671",
   "metadata": {},
   "outputs": [],
   "source": []
  }
 ],
 "metadata": {
  "kernelspec": {
   "display_name": "Python 3 (ipykernel)",
   "language": "python",
   "name": "python3"
  },
  "language_info": {
   "codemirror_mode": {
    "name": "ipython",
    "version": 3
   },
   "file_extension": ".py",
   "mimetype": "text/x-python",
   "name": "python",
   "nbconvert_exporter": "python",
   "pygments_lexer": "ipython3",
   "version": "3.9.7"
  }
 },
 "nbformat": 4,
 "nbformat_minor": 5
}
