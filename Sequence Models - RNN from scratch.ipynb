{
 "cells": [
  {
   "cell_type": "markdown",
   "id": "8057e1e5",
   "metadata": {},
   "source": [
    "#### Great video: https://www.youtube.com/watch?v=WEV61GmmPrk&ab_channel=PatrickLoeber\n",
    "#### Pytorch Link: https://pytorch.org/tutorials/intermediate/char_rnn_classification_tutorial.html"
   ]
  },
  {
   "cell_type": "code",
   "execution_count": 1,
   "id": "fe3bb8f5",
   "metadata": {},
   "outputs": [],
   "source": [
    "import torch\n",
    "import torch.nn as nn\n",
    "import torch.nn.functional as F\n",
    "import torch.optim as optim\n",
    "from torch import tensor\n",
    "import random\n",
    "import unicodedata, string, glob, os\n",
    "import matplotlib.pyplot as plt"
   ]
  },
  {
   "attachments": {
    "RNN_schema.png": {
     "image/png": "[encoded data removed]"
    }
   },
   "cell_type": "markdown",
   "id": "a25465fc",
   "metadata": {},
   "source": [
    "![RNN_schema.png](attachment:RNN_schema.png)"
   ]
  },
  {
   "cell_type": "markdown",
   "id": "cffe5f56",
   "metadata": {},
   "source": [
    "### A. Data preparation\n",
    "- [x] Create alphabet dictionary (which will include some special characters like .,;')\n",
    "- [x] Load ***.txt*** data into Python variables\n",
    "    - [x] while loading - convert to ascii format: For example: ex ä ->a\n",
    "- [x] Convert words into numbers by stacking one-hot encoding for each alphabets\n",
    "- [x] Create input and output tensors"
   ]
  },
  {
   "cell_type": "code",
   "execution_count": 2,
   "id": "ff13f4b9",
   "metadata": {},
   "outputs": [
    {
     "data": {
      "text/plain": [
       "'abcdefghijklmnopqrstuvwxyzABCDEFGHIJKLMNOPQRSTUVWXYZ'"
      ]
     },
     "execution_count": 2,
     "metadata": {},
     "output_type": "execute_result"
    }
   ],
   "source": [
    "string.ascii_letters"
   ]
  },
  {
   "cell_type": "markdown",
   "id": "bc5f9f45",
   "metadata": {},
   "source": [
    "##### A1. Create Alphabet Dictionary"
   ]
  },
  {
   "cell_type": "code",
   "execution_count": 3,
   "id": "0e5f778c",
   "metadata": {},
   "outputs": [
    {
     "name": "stdout",
     "output_type": "stream",
     "text": [
      "abcdefghijklmnopqrstuvwxyzABCDEFGHIJKLMNOPQRSTUVWXYZ.,;''\n",
      "57\n"
     ]
    }
   ],
   "source": [
    "all_letters = string.ascii_letters + \".,;''\"\n",
    "print(all_letters)\n",
    "print(len(all_letters))"
   ]
  },
  {
   "cell_type": "markdown",
   "id": "dca19bb6",
   "metadata": {},
   "source": [
    "##### A2. Load .txt data into Python variables\n",
    "- [x] read the .txt files and get the data from txt into python dictionary so that we can use the data for our p"
   ]
  },
  {
   "cell_type": "code",
   "execution_count": 4,
   "id": "467169b3",
   "metadata": {},
   "outputs": [],
   "source": [
    "def findFiles(path):\n",
    "    return glob.glob(path)"
   ]
  },
  {
   "cell_type": "code",
   "execution_count": 5,
   "id": "21c11871",
   "metadata": {},
   "outputs": [
    {
     "data": {
      "text/plain": [
       "['data/names\\\\Arabic.txt',\n",
       " 'data/names\\\\Chinese.txt',\n",
       " 'data/names\\\\Czech.txt',\n",
       " 'data/names\\\\Dutch.txt',\n",
       " 'data/names\\\\English.txt',\n",
       " 'data/names\\\\French.txt',\n",
       " 'data/names\\\\German.txt',\n",
       " 'data/names\\\\Greek.txt',\n",
       " 'data/names\\\\Irish.txt',\n",
       " 'data/names\\\\Italian.txt',\n",
       " 'data/names\\\\Japanese.txt',\n",
       " 'data/names\\\\Korean.txt',\n",
       " 'data/names\\\\Polish.txt',\n",
       " 'data/names\\\\Portuguese.txt',\n",
       " 'data/names\\\\Russian.txt',\n",
       " 'data/names\\\\Scottish.txt',\n",
       " 'data/names\\\\Spanish.txt',\n",
       " 'data/names\\\\Vietnamese.txt']"
      ]
     },
     "execution_count": 5,
     "metadata": {},
     "output_type": "execute_result"
    }
   ],
   "source": [
    "path = 'data/names/*.txt'\n",
    "findFiles(path)"
   ]
  },
  {
   "cell_type": "code",
   "execution_count": 6,
   "id": "3ddb6a6a",
   "metadata": {},
   "outputs": [],
   "source": [
    "for fname in findFiles(path):\n",
    "    data = open(fname, encoding = 'utf-8').read().strip().split('\\n') # experiment with each -> .read().strip().split('\\n')\n",
    "    #print(type(data), data)\n",
    "    #print(fname.split('\\\\')[-1].split('.')[0])\n",
    "    language = fname.split('\\\\')[-1].split('.')[0]\n",
    "#     print(type(data))\n",
    "#     print(language)\n",
    "#     print(data)\n",
    "    #print(language)\n",
    "    break"
   ]
  },
  {
   "cell_type": "code",
   "execution_count": 7,
   "id": "0dddddd0",
   "metadata": {},
   "outputs": [],
   "source": [
    "def get_list_of_words(path):\n",
    "    all_categories = [], category_lines = {}\n",
    "    for fname in findFiles(path):\n",
    "        list_of_words = open(fname, encoding = 'utf-8').read().strip().split('\\n') # experiment with each -> .read().strip().split('\\n')\n",
    "        language = fname.split('\\\\')[-1].split('.')[0]\n",
    "        \n",
    "        all_categories.append(language)\n",
    "        category_lines[language] = list_of_words\n",
    "        \n",
    "    return all_categories, category_lines"
   ]
  },
  {
   "cell_type": "code",
   "execution_count": 8,
   "id": "4c191765",
   "metadata": {},
   "outputs": [],
   "source": [
    "# before we get all names of every language into a dictionary, we should have all characters in ascii format \n",
    "# For example: ex ä ->a\n",
    "\n",
    "def unicode_to_ascii(name):\n",
    "    return \"\".join(c for c in unicodedata.normalize('NFD',name)\n",
    "                  if unicodedata.category(c)!='Mn'\n",
    "                  and c in all_letters)"
   ]
  },
  {
   "cell_type": "code",
   "execution_count": 9,
   "id": "ced75494",
   "metadata": {},
   "outputs": [
    {
     "data": {
      "text/plain": [
       "'Sneha'"
      ]
     },
     "execution_count": 9,
     "metadata": {},
     "output_type": "execute_result"
    }
   ],
   "source": [
    "name = 'Snehä'\n",
    "unicode_to_ascii(name)"
   ]
  },
  {
   "cell_type": "code",
   "execution_count": 10,
   "id": "95cda94b",
   "metadata": {},
   "outputs": [],
   "source": [
    "# update the function\n",
    "def get_list_of_words(path):\n",
    "    all_categories = []; category_lines = {}\n",
    "    for fname in findFiles(path):\n",
    "        list_of_words = open(fname, encoding = 'utf-8').read().strip().split('\\n') # experiment with each -> .read().strip().split('\\n')\n",
    "        language = fname.split('\\\\')[-1].split('.')[0]\n",
    "        \n",
    "        #### convert to ascii #####\n",
    "        list_of_words_ascii = []\n",
    "        for word in list_of_words:\n",
    "            list_of_words_ascii.append(unicode_to_ascii(word))\n",
    "        ########################\n",
    "        all_categories.append(language)\n",
    "        category_lines[language] = list_of_words_ascii # use updated list of words in ascii format\n",
    "        \n",
    "    return all_categories, category_lines"
   ]
  },
  {
   "cell_type": "code",
   "execution_count": 11,
   "id": "af05f45c",
   "metadata": {},
   "outputs": [],
   "source": [
    "all_categories, category_lines = get_list_of_words(path)"
   ]
  },
  {
   "cell_type": "code",
   "execution_count": 12,
   "id": "bcbe8a46",
   "metadata": {},
   "outputs": [
    {
     "data": {
      "text/plain": [
       "(18,\n",
       " ['Arabic',\n",
       "  'Chinese',\n",
       "  'Czech',\n",
       "  'Dutch',\n",
       "  'English',\n",
       "  'French',\n",
       "  'German',\n",
       "  'Greek',\n",
       "  'Irish',\n",
       "  'Italian',\n",
       "  'Japanese',\n",
       "  'Korean',\n",
       "  'Polish',\n",
       "  'Portuguese',\n",
       "  'Russian',\n",
       "  'Scottish',\n",
       "  'Spanish',\n",
       "  'Vietnamese'])"
      ]
     },
     "execution_count": 12,
     "metadata": {},
     "output_type": "execute_result"
    }
   ],
   "source": [
    "len(all_categories), all_categories"
   ]
  },
  {
   "cell_type": "code",
   "execution_count": 13,
   "id": "c2bec206",
   "metadata": {},
   "outputs": [
    {
     "data": {
      "text/plain": [
       "dict_keys(['Arabic', 'Chinese', 'Czech', 'Dutch', 'English', 'French', 'German', 'Greek', 'Irish', 'Italian', 'Japanese', 'Korean', 'Polish', 'Portuguese', 'Russian', 'Scottish', 'Spanish', 'Vietnamese'])"
      ]
     },
     "execution_count": 13,
     "metadata": {},
     "output_type": "execute_result"
    }
   ],
   "source": [
    "category_lines.keys()"
   ]
  },
  {
   "cell_type": "code",
   "execution_count": 14,
   "id": "d6b4fb67",
   "metadata": {},
   "outputs": [
    {
     "data": {
      "text/plain": [
       "['Ang',\n",
       " 'AuYong',\n",
       " 'Bai',\n",
       " 'Ban',\n",
       " 'Bao',\n",
       " 'Bei',\n",
       " 'Bian',\n",
       " 'Bui',\n",
       " 'Cai',\n",
       " 'Cao',\n",
       " 'Cen',\n",
       " 'Chai',\n",
       " 'Chaim',\n",
       " 'Chan',\n",
       " 'Chang',\n",
       " 'Chao',\n",
       " 'Che',\n",
       " 'Chen',\n",
       " 'Cheng',\n",
       " 'Cheung',\n",
       " 'Chew',\n",
       " 'Chieu',\n",
       " 'Chin',\n",
       " 'Chong',\n",
       " 'Chou',\n",
       " 'Chu',\n",
       " 'Cui',\n",
       " 'Dai',\n",
       " 'Deng',\n",
       " 'Ding',\n",
       " 'Dong',\n",
       " 'Dou',\n",
       " 'Duan',\n",
       " 'Eng',\n",
       " 'Fan',\n",
       " 'Fei',\n",
       " 'Feng',\n",
       " 'Foong',\n",
       " 'Fung',\n",
       " 'Gan',\n",
       " 'Gauk',\n",
       " 'Geng',\n",
       " 'Gim',\n",
       " 'Gok',\n",
       " 'Gong',\n",
       " 'Guan',\n",
       " 'Guang',\n",
       " 'Guo',\n",
       " 'Gwock',\n",
       " 'Han',\n",
       " 'Hang',\n",
       " 'Hao',\n",
       " 'Hew',\n",
       " 'Hiu',\n",
       " 'Hong',\n",
       " 'Hor',\n",
       " 'Hsiao',\n",
       " 'Hua',\n",
       " 'Huan',\n",
       " 'Huang',\n",
       " 'Hui',\n",
       " 'Huie',\n",
       " 'Huo',\n",
       " 'Jia',\n",
       " 'Jiang',\n",
       " 'Jin',\n",
       " 'Jing',\n",
       " 'Joe',\n",
       " 'Kang',\n",
       " 'Kau',\n",
       " 'Khoo',\n",
       " 'Khu',\n",
       " 'Kong',\n",
       " 'Koo',\n",
       " 'Kwan',\n",
       " 'Kwei',\n",
       " 'Kwong',\n",
       " 'Lai',\n",
       " 'Lam',\n",
       " 'Lang',\n",
       " 'Lau',\n",
       " 'Law',\n",
       " 'Lew',\n",
       " 'Lian',\n",
       " 'Liao',\n",
       " 'Lim',\n",
       " 'Lin',\n",
       " 'Ling',\n",
       " 'Liu',\n",
       " 'Loh',\n",
       " 'Long',\n",
       " 'Loong',\n",
       " 'Luo',\n",
       " 'Mah',\n",
       " 'Mai',\n",
       " 'Mak',\n",
       " 'Mao',\n",
       " 'Mar',\n",
       " 'Mei',\n",
       " 'Meng',\n",
       " 'Miao',\n",
       " 'Min',\n",
       " 'Ming',\n",
       " 'Moy',\n",
       " 'Mui',\n",
       " 'Nie',\n",
       " 'Niu',\n",
       " 'OuYang',\n",
       " 'OwYang',\n",
       " 'Pan',\n",
       " 'Pang',\n",
       " 'Pei',\n",
       " 'Peng',\n",
       " 'Ping',\n",
       " 'Qian',\n",
       " 'Qin',\n",
       " 'Qiu',\n",
       " 'Quan',\n",
       " 'Que',\n",
       " 'Ran',\n",
       " 'Rao',\n",
       " 'Rong',\n",
       " 'Ruan',\n",
       " 'Sam',\n",
       " 'Seah',\n",
       " 'See',\n",
       " 'Seow',\n",
       " 'Seto',\n",
       " 'Sha',\n",
       " 'Shan',\n",
       " 'Shang',\n",
       " 'Shao',\n",
       " 'Shaw',\n",
       " 'She',\n",
       " 'Shen',\n",
       " 'Sheng',\n",
       " 'Shi',\n",
       " 'Shu',\n",
       " 'Shuai',\n",
       " 'Shui',\n",
       " 'Shum',\n",
       " 'Siew',\n",
       " 'Siu',\n",
       " 'Song',\n",
       " 'Sum',\n",
       " 'Sun',\n",
       " 'Sze',\n",
       " 'Tan',\n",
       " 'Tang',\n",
       " 'Tao',\n",
       " 'Teng',\n",
       " 'Teoh',\n",
       " 'Thean',\n",
       " 'Thian',\n",
       " 'Thien',\n",
       " 'Tian',\n",
       " 'Tong',\n",
       " 'Tow',\n",
       " 'Tsang',\n",
       " 'Tse',\n",
       " 'Tsen',\n",
       " 'Tso',\n",
       " 'Tze',\n",
       " 'Wan',\n",
       " 'Wang',\n",
       " 'Wei',\n",
       " 'Wen',\n",
       " 'Weng',\n",
       " 'Won',\n",
       " 'Wong',\n",
       " 'Woo',\n",
       " 'Xiang',\n",
       " 'Xiao',\n",
       " 'Xie',\n",
       " 'Xing',\n",
       " 'Xue',\n",
       " 'Xun',\n",
       " 'Yan',\n",
       " 'Yang',\n",
       " 'Yao',\n",
       " 'Yap',\n",
       " 'Yau',\n",
       " 'Yee',\n",
       " 'Yep',\n",
       " 'Yim',\n",
       " 'Yin',\n",
       " 'Ying',\n",
       " 'Yong',\n",
       " 'You',\n",
       " 'Yuan',\n",
       " 'Zang',\n",
       " 'Zeng',\n",
       " 'Zha',\n",
       " 'Zhan',\n",
       " 'Zhang',\n",
       " 'Zhao',\n",
       " 'Zhen',\n",
       " 'Zheng',\n",
       " 'Zhong',\n",
       " 'Zhou',\n",
       " 'Zhu',\n",
       " 'Zhuo',\n",
       " 'Zong',\n",
       " 'Zou',\n",
       " 'Bing',\n",
       " 'Chi',\n",
       " 'Chu',\n",
       " 'Cong',\n",
       " 'Cuan',\n",
       " 'Dan',\n",
       " 'Fei',\n",
       " 'Feng',\n",
       " 'Gai',\n",
       " 'Gao',\n",
       " 'Gou',\n",
       " 'Guan',\n",
       " 'Gui',\n",
       " 'Guo',\n",
       " 'Hong',\n",
       " 'Hou',\n",
       " 'Huan',\n",
       " 'Jian',\n",
       " 'Jiao',\n",
       " 'Jin',\n",
       " 'Jiu',\n",
       " 'Juan',\n",
       " 'Jue',\n",
       " 'Kan',\n",
       " 'Kuai',\n",
       " 'Kuang',\n",
       " 'Kui',\n",
       " 'Lao',\n",
       " 'Liang',\n",
       " 'Lu',\n",
       " 'Luo',\n",
       " 'Man',\n",
       " 'Nao',\n",
       " 'Pian',\n",
       " 'Qiao',\n",
       " 'Qing',\n",
       " 'Qiu',\n",
       " 'Rang',\n",
       " 'Rui',\n",
       " 'She',\n",
       " 'Shi',\n",
       " 'Shuo',\n",
       " 'Sui',\n",
       " 'Tai',\n",
       " 'Wan',\n",
       " 'Wei',\n",
       " 'Xian',\n",
       " 'Xie',\n",
       " 'Xin',\n",
       " 'Xing',\n",
       " 'Xiong',\n",
       " 'Xuan',\n",
       " 'Yan',\n",
       " 'Yin',\n",
       " 'Ying',\n",
       " 'Yuan',\n",
       " 'Yue',\n",
       " 'Yun',\n",
       " 'Zha',\n",
       " 'Zhai',\n",
       " 'Zhang',\n",
       " 'Zhi',\n",
       " 'Zhuan',\n",
       " 'Zhui']"
      ]
     },
     "execution_count": 14,
     "metadata": {},
     "output_type": "execute_result"
    }
   ],
   "source": [
    "category_lines['Chinese']"
   ]
  },
  {
   "cell_type": "markdown",
   "id": "ea408580",
   "metadata": {},
   "source": [
    "##### A3. Convert word into matrices/ tensors by stacking one-hot embedding of alphabets"
   ]
  },
  {
   "cell_type": "code",
   "execution_count": 15,
   "id": "64b5888a",
   "metadata": {},
   "outputs": [
    {
     "data": {
      "text/plain": [
       "torch.Size([1, 57])"
      ]
     },
     "execution_count": 15,
     "metadata": {},
     "output_type": "execute_result"
    }
   ],
   "source": [
    "torch.zeros(1,len(all_letters)).shape"
   ]
  },
  {
   "cell_type": "code",
   "execution_count": 16,
   "id": "72396b9d",
   "metadata": {},
   "outputs": [
    {
     "name": "stdout",
     "output_type": "stream",
     "text": [
      "all_letters:  abcdefghijklmnopqrstuvwxyzABCDEFGHIJKLMNOPQRSTUVWXYZ.,;''\n",
      "Index of c =  2\n"
     ]
    },
    {
     "data": {
      "text/plain": [
       "tensor([[0., 0., 1., 0., 0., 0., 0., 0., 0., 0., 0., 0., 0., 0., 0., 0., 0., 0.,\n",
       "         0., 0., 0., 0., 0., 0., 0., 0., 0., 0., 0., 0., 0., 0., 0., 0., 0., 0.,\n",
       "         0., 0., 0., 0., 0., 0., 0., 0., 0., 0., 0., 0., 0., 0., 0., 0., 0., 0.,\n",
       "         0., 0., 0.]])"
      ]
     },
     "execution_count": 16,
     "metadata": {},
     "output_type": "execute_result"
    }
   ],
   "source": [
    "name = 'cab'\n",
    "print('all_letters: ', all_letters)\n",
    "print('Index of c = ', all_letters.find('c'))\n",
    "\n",
    "def alphabet_to_tensor(alphabet):\n",
    "    one_hot = torch.zeros(1,len(all_letters))\n",
    "    idx = all_letters.find(alphabet)\n",
    "    one_hot[0][idx]=1\n",
    "    return one_hot\n",
    "    \n",
    "alphabet_to_tensor('c')"
   ]
  },
  {
   "cell_type": "code",
   "execution_count": 17,
   "id": "72ad1b52",
   "metadata": {},
   "outputs": [
    {
     "data": {
      "text/plain": [
       "[tensor([[0., 0., 1., 0., 0., 0., 0., 0., 0., 0., 0., 0., 0., 0., 0., 0., 0., 0.,\n",
       "          0., 0., 0., 0., 0., 0., 0., 0., 0., 0., 0., 0., 0., 0., 0., 0., 0., 0.,\n",
       "          0., 0., 0., 0., 0., 0., 0., 0., 0., 0., 0., 0., 0., 0., 0., 0., 0., 0.,\n",
       "          0., 0., 0.]]),\n",
       " tensor([[1., 0., 0., 0., 0., 0., 0., 0., 0., 0., 0., 0., 0., 0., 0., 0., 0., 0.,\n",
       "          0., 0., 0., 0., 0., 0., 0., 0., 0., 0., 0., 0., 0., 0., 0., 0., 0., 0.,\n",
       "          0., 0., 0., 0., 0., 0., 0., 0., 0., 0., 0., 0., 0., 0., 0., 0., 0., 0.,\n",
       "          0., 0., 0.]]),\n",
       " tensor([[0., 1., 0., 0., 0., 0., 0., 0., 0., 0., 0., 0., 0., 0., 0., 0., 0., 0.,\n",
       "          0., 0., 0., 0., 0., 0., 0., 0., 0., 0., 0., 0., 0., 0., 0., 0., 0., 0.,\n",
       "          0., 0., 0., 0., 0., 0., 0., 0., 0., 0., 0., 0., 0., 0., 0., 0., 0., 0.,\n",
       "          0., 0., 0.]])]"
      ]
     },
     "execution_count": 17,
     "metadata": {},
     "output_type": "execute_result"
    }
   ],
   "source": [
    "[alphabet_to_tensor(x) for x in 'cab']"
   ]
  },
  {
   "cell_type": "code",
   "execution_count": 18,
   "id": "75d7a4d7",
   "metadata": {},
   "outputs": [
    {
     "data": {
      "text/plain": [
       "torch.Size([3, 1, 57])"
      ]
     },
     "execution_count": 18,
     "metadata": {},
     "output_type": "execute_result"
    }
   ],
   "source": [
    "torch.stack([alphabet_to_tensor(x) for x in 'cab']).shape"
   ]
  },
  {
   "cell_type": "code",
   "execution_count": 19,
   "id": "ad66f61d",
   "metadata": {},
   "outputs": [],
   "source": [
    "def name_to_tensor(name):\n",
    "    return torch.stack([alphabet_to_tensor(alphabet) for alphabet in name])"
   ]
  },
  {
   "cell_type": "code",
   "execution_count": 20,
   "id": "df8f5657",
   "metadata": {},
   "outputs": [
    {
     "data": {
      "text/plain": [
       "tensor([[[0., 0., 1., 0., 0., 0., 0., 0., 0., 0., 0., 0., 0., 0., 0., 0., 0.,\n",
       "          0., 0., 0., 0., 0., 0., 0., 0., 0., 0., 0., 0., 0., 0., 0., 0., 0.,\n",
       "          0., 0., 0., 0., 0., 0., 0., 0., 0., 0., 0., 0., 0., 0., 0., 0., 0.,\n",
       "          0., 0., 0., 0., 0., 0.]],\n",
       "\n",
       "        [[1., 0., 0., 0., 0., 0., 0., 0., 0., 0., 0., 0., 0., 0., 0., 0., 0.,\n",
       "          0., 0., 0., 0., 0., 0., 0., 0., 0., 0., 0., 0., 0., 0., 0., 0., 0.,\n",
       "          0., 0., 0., 0., 0., 0., 0., 0., 0., 0., 0., 0., 0., 0., 0., 0., 0.,\n",
       "          0., 0., 0., 0., 0., 0.]],\n",
       "\n",
       "        [[0., 1., 0., 0., 0., 0., 0., 0., 0., 0., 0., 0., 0., 0., 0., 0., 0.,\n",
       "          0., 0., 0., 0., 0., 0., 0., 0., 0., 0., 0., 0., 0., 0., 0., 0., 0.,\n",
       "          0., 0., 0., 0., 0., 0., 0., 0., 0., 0., 0., 0., 0., 0., 0., 0., 0.,\n",
       "          0., 0., 0., 0., 0., 0.]]])"
      ]
     },
     "execution_count": 20,
     "metadata": {},
     "output_type": "execute_result"
    }
   ],
   "source": [
    "name_to_tensor('cab')"
   ]
  },
  {
   "cell_type": "markdown",
   "id": "3d1690fa",
   "metadata": {},
   "source": [
    "##### A4. Create input and output tensors"
   ]
  },
  {
   "cell_type": "code",
   "execution_count": 21,
   "id": "a2444ad1",
   "metadata": {},
   "outputs": [
    {
     "data": {
      "text/plain": [
       "[0]"
      ]
     },
     "execution_count": 21,
     "metadata": {},
     "output_type": "execute_result"
    }
   ],
   "source": [
    "random.sample(range(len(all_categories)),1)"
   ]
  },
  {
   "cell_type": "code",
   "execution_count": 22,
   "id": "0d2e4f41",
   "metadata": {},
   "outputs": [
    {
     "data": {
      "text/plain": [
       "list"
      ]
     },
     "execution_count": 22,
     "metadata": {},
     "output_type": "execute_result"
    }
   ],
   "source": [
    "type(random.sample(range(len(all_categories)),1))"
   ]
  },
  {
   "cell_type": "code",
   "execution_count": 23,
   "id": "6b07f2ff",
   "metadata": {},
   "outputs": [],
   "source": [
    "def load_datapoint():\n",
    "    ''' randomly select a language and then randomly select a word in it. \n",
    "    Return the output_tensor (one-hot) i.e. selected language and input_word in tensor format'''\n",
    "    \n",
    "    language_idx = random.sample(range(len(all_categories)),1)[0] # Sample 1 value and because it returns as list, index in it\n",
    "    language = all_categories[language_idx]\n",
    "    output_tensor = tensor([language_idx], dtype = torch.long) # needs to be integral and not (1,18) tensor\n",
    "    \n",
    "    \n",
    "    language_words = category_lines[language]\n",
    "    word_idx = random.sample(range(len(language_words)),1)[0]\n",
    "    word = language_words[word_idx]\n",
    "    word_tensor = name_to_tensor(word)\n",
    "    \n",
    "    return word, language, word_tensor, output_tensor"
   ]
  },
  {
   "cell_type": "code",
   "execution_count": 24,
   "id": "bbc1791c",
   "metadata": {},
   "outputs": [
    {
     "name": "stdout",
     "output_type": "stream",
     "text": [
      "Peusen Dutch\n",
      "Germano Italian\n",
      "Vourlis Greek\n",
      "Jans German\n",
      "Huerta Spanish\n",
      "Takekawa Japanese\n",
      "Towers English\n",
      "Mcintosh Scottish\n",
      "Satake Japanese\n",
      "Mclaughlin Scottish\n"
     ]
    }
   ],
   "source": [
    "for i in range(10):\n",
    "    word, language, word_tensor, output_tensor = load_datapoint()\n",
    "    print(word, language)\n",
    "    "
   ]
  },
  {
   "cell_type": "markdown",
   "id": "709cb71d",
   "metadata": {},
   "source": [
    "### B. Model development and training\n",
    "- [x] Create RNN module\n",
    "- [x] Create training function\n",
    "- [x] Create evaulation function\n",
    "- [ ] Monitor training and evaluation performance by tensorboard\n",
    "- [x] Monitor training and evaluation performance (in Env if no tensorboard)"
   ]
  },
  {
   "cell_type": "markdown",
   "id": "80bc0593",
   "metadata": {},
   "source": [
    "##### B1. Create RNN module\n",
    "- Refer example for creating custom Pytorch `Class`: https://pytorch.org/tutorials/beginner/introyt/modelsyt_tutorial.html\n",
    "   - Step-1: In `def __init__(` : we define the architecture\n",
    "   - Step-2: In `forward`: we define the flow of calculations\n",
    "   \n",
    "1. input_sz = len of features : Suppose (1,57) : 1 - one alphabet at a time, possibilities = 57 [One-hot vector]\n",
    "1. hidden_sz = size of hidden state **(a hyperparameter)**\n",
    "1. output_sz = number of classes : Total = 18"
   ]
  },
  {
   "cell_type": "code",
   "execution_count": 25,
   "id": "37333741",
   "metadata": {},
   "outputs": [],
   "source": [
    "# # helpful to write before creating the RNN module\n",
    "# input_sz = 57\n",
    "# hidden_sz = 32\n",
    "# output_sz = 18"
   ]
  },
  {
   "cell_type": "code",
   "execution_count": 26,
   "id": "92cc48ab",
   "metadata": {},
   "outputs": [],
   "source": [
    "class RNN(nn.Module):\n",
    "    def __init__(self, input_sz, hidden_sz, output_sz):\n",
    "        super(RNN, self).__init__()\n",
    "        self.hidden_sz = hidden_sz\n",
    "        self.i2h = nn.Linear(input_sz+hidden_sz, hidden_sz)\n",
    "        self.i2o = nn.Linear(input_sz+hidden_sz, output_sz)\n",
    "        self.softmax = nn.LogSoftmax(dim=1)\n",
    "\n",
    "    def forward(self, input, hidden):\n",
    "        \n",
    "        combined = torch.cat((input, hidden),dim=1) # cat((1,57),(1,128), dim=1) -> (1, 185)\n",
    "        hidden = self.i2h(combined) # update the hidden\n",
    "        output = self.i2o(combined)\n",
    "#         output = nn.LogSoftmax(output)## wont work. We need to define this in __init__ module\n",
    "        output = self.softmax(output)\n",
    "        return hidden, output\n",
    "    \n",
    "    def init_hidden(self):\n",
    "        return torch.zeros((1, self.hidden_sz))\n"
   ]
  },
  {
   "cell_type": "code",
   "execution_count": 27,
   "id": "ff37bf97",
   "metadata": {},
   "outputs": [
    {
     "data": {
      "text/plain": [
       "RNN(\n",
       "  (i2h): Linear(in_features=185, out_features=128, bias=True)\n",
       "  (i2o): Linear(in_features=185, out_features=18, bias=True)\n",
       "  (softmax): LogSoftmax(dim=1)\n",
       ")"
      ]
     },
     "execution_count": 27,
     "metadata": {},
     "output_type": "execute_result"
    }
   ],
   "source": [
    "rnn = RNN(input_sz=57, hidden_sz=128, output_sz=18)\n",
    "rnn"
   ]
  },
  {
   "cell_type": "markdown",
   "id": "66d806e7",
   "metadata": {},
   "source": [
    "- **confusion-1** - output - next alphabet or Language category(English/Hindi) \n",
    "    - **Answer-1** - output is Language category. This is **one-to-many** where it predicts the language after every character. But, right now, **we are not predicting the next character**\n",
    "\n",
    "- **confusion-2**: How do I implement a method to also calculate the probability of the next alphabet? Do we not do it? Because even in Statquest RNN video, I saw they didn't compare the output of 2nd day and real 2nd day value **actively** while calculating value for 3rd day\n",
    "    - **Answer-2** - This is **my HW**\n",
    "- **Idea-1**: When we use one-hot encoding, how do we differentiate zero at 2nd place or zero at 20th place? Should we use positional encoding to improve this?"
   ]
  },
  {
   "cell_type": "markdown",
   "id": "e99fa80d",
   "metadata": {},
   "source": [
    "##### B2. Create training function"
   ]
  },
  {
   "cell_type": "code",
   "execution_count": 28,
   "id": "a24bfff3",
   "metadata": {},
   "outputs": [
    {
     "name": "stdout",
     "output_type": "stream",
     "text": [
      "Moon Korean\n",
      "output_tensor tensor([11]) \n",
      " word_tensor tensor([[[0., 0., 0., 0., 0., 0., 0., 0., 0., 0., 0., 0., 0., 0., 0., 0., 0.,\n",
      "          0., 0., 0., 0., 0., 0., 0., 0., 0., 0., 0., 0., 0., 0., 0., 0., 0.,\n",
      "          0., 0., 0., 0., 1., 0., 0., 0., 0., 0., 0., 0., 0., 0., 0., 0., 0.,\n",
      "          0., 0., 0., 0., 0., 0.]],\n",
      "\n",
      "        [[0., 0., 0., 0., 0., 0., 0., 0., 0., 0., 0., 0., 0., 0., 1., 0., 0.,\n",
      "          0., 0., 0., 0., 0., 0., 0., 0., 0., 0., 0., 0., 0., 0., 0., 0., 0.,\n",
      "          0., 0., 0., 0., 0., 0., 0., 0., 0., 0., 0., 0., 0., 0., 0., 0., 0.,\n",
      "          0., 0., 0., 0., 0., 0.]],\n",
      "\n",
      "        [[0., 0., 0., 0., 0., 0., 0., 0., 0., 0., 0., 0., 0., 0., 1., 0., 0.,\n",
      "          0., 0., 0., 0., 0., 0., 0., 0., 0., 0., 0., 0., 0., 0., 0., 0., 0.,\n",
      "          0., 0., 0., 0., 0., 0., 0., 0., 0., 0., 0., 0., 0., 0., 0., 0., 0.,\n",
      "          0., 0., 0., 0., 0., 0.]],\n",
      "\n",
      "        [[0., 0., 0., 0., 0., 0., 0., 0., 0., 0., 0., 0., 0., 1., 0., 0., 0.,\n",
      "          0., 0., 0., 0., 0., 0., 0., 0., 0., 0., 0., 0., 0., 0., 0., 0., 0.,\n",
      "          0., 0., 0., 0., 0., 0., 0., 0., 0., 0., 0., 0., 0., 0., 0., 0., 0.,\n",
      "          0., 0., 0., 0., 0., 0.]]])\n"
     ]
    }
   ],
   "source": [
    "word, language, word_tensor, output_tensor = load_datapoint()\n",
    "print(word, language)\n",
    "print('output_tensor', output_tensor, '\\n' , 'word_tensor', word_tensor)"
   ]
  },
  {
   "cell_type": "code",
   "execution_count": 29,
   "id": "a61932c6",
   "metadata": {},
   "outputs": [],
   "source": [
    "def label_to_language(pred):\n",
    "    return all_categories[torch.argmax(pred)]"
   ]
  },
  {
   "cell_type": "code",
   "execution_count": 30,
   "id": "a6897341",
   "metadata": {},
   "outputs": [
    {
     "data": {
      "text/plain": [
       "'Arabic'"
      ]
     },
     "execution_count": 30,
     "metadata": {},
     "output_type": "execute_result"
    }
   ],
   "source": [
    "label_to_language(output_tensor)"
   ]
  },
  {
   "cell_type": "code",
   "execution_count": 31,
   "id": "188eaef8",
   "metadata": {},
   "outputs": [
    {
     "name": "stdout",
     "output_type": "stream",
     "text": [
      "torch.Size([2, 6])\n",
      "tensor([0, 4])\n",
      "ae\n"
     ]
    }
   ],
   "source": [
    "a = tensor([[1,0,0,0,0,0],[0,0,0,0,1,0]])\n",
    "print(a.shape)\n",
    "idxs = torch.argmax(a,dim=1)\n",
    "print(idxs)\n",
    "name = ''.join(all_letters[i] for i in idxs)\n",
    "print(name)"
   ]
  },
  {
   "cell_type": "code",
   "execution_count": 32,
   "id": "bb3a3c5b",
   "metadata": {},
   "outputs": [],
   "source": [
    "def tensor_to_word(word_tensor):\n",
    "    idxs = torch.argmax(word_tensor[:,0,:],dim=1) # (n,1,57)\n",
    "    name = ''.join(all_letters[i] for i in idxs)\n",
    "    return name\n",
    "    "
   ]
  },
  {
   "cell_type": "code",
   "execution_count": 33,
   "id": "2800a513",
   "metadata": {},
   "outputs": [
    {
     "data": {
      "text/plain": [
       "('Moon', 'Arabic')"
      ]
     },
     "execution_count": 33,
     "metadata": {},
     "output_type": "execute_result"
    }
   ],
   "source": [
    "tensor_to_word(word_tensor), label_to_language(output_tensor)"
   ]
  },
  {
   "cell_type": "code",
   "execution_count": 34,
   "id": "1cf3136b",
   "metadata": {},
   "outputs": [
    {
     "name": "stdout",
     "output_type": "stream",
     "text": [
      "Andres German\n",
      "Messana Italian\n",
      "Reay English\n",
      "Phocas Greek\n",
      "Ii Japanese\n",
      "Baumgartner German\n",
      "O'Malley Irish\n",
      "Almeida Portuguese\n",
      "Parris French\n",
      "Van Vietnamese\n"
     ]
    }
   ],
   "source": [
    "for i in range(10):\n",
    "    word, language, word_tensor, output_tensor = load_datapoint()\n",
    "    print(word, language)"
   ]
  },
  {
   "cell_type": "code",
   "execution_count": 35,
   "id": "3ecaab87",
   "metadata": {},
   "outputs": [
    {
     "data": {
      "text/plain": [
       "tensor([[0., 0., 0., 0., 0., 0., 0., 0., 0., 0., 0., 0., 0., 0., 0., 0., 0., 0., 0., 0., 0., 0., 0., 0.,\n",
       "         0., 0., 0., 0., 0., 0., 0., 0., 0., 0., 0., 0., 0., 0., 0., 0., 0., 0., 0., 0., 0., 0., 0., 0.,\n",
       "         0., 0., 0., 0., 0., 0., 0., 0., 0., 0., 0., 0., 0., 0., 0., 0., 0., 0., 0., 0., 0., 0., 0., 0.,\n",
       "         0., 0., 0., 0., 0., 0., 0., 0., 0., 0., 0., 0., 0., 0., 0., 0., 0., 0., 0., 0., 0., 0., 0., 0.,\n",
       "         0., 0., 0., 0., 0., 0., 0., 0., 0., 0., 0., 0., 0., 0., 0., 0., 0., 0., 0., 0., 0., 0., 0., 0.,\n",
       "         0., 0., 0., 0., 0., 0., 0., 0.]])"
      ]
     },
     "execution_count": 35,
     "metadata": {},
     "output_type": "execute_result"
    }
   ],
   "source": [
    "# hidden state starts from zero\n",
    "hidden = rnn.init_hidden()\n",
    "hidden"
   ]
  },
  {
   "cell_type": "code",
   "execution_count": 36,
   "id": "d55a89e4",
   "metadata": {},
   "outputs": [],
   "source": [
    "criterion = nn.NLLLoss()\n",
    "optimizer = optim.SGD(rnn.parameters(), lr=0.005)"
   ]
  },
  {
   "cell_type": "markdown",
   "id": "e46538c0",
   "metadata": {},
   "source": [
    "#### confusion-3: I have initialised weights of hidden state as 0 but how have I initialised the weights of other RNN params?"
   ]
  },
  {
   "cell_type": "code",
   "execution_count": 37,
   "id": "a499b557",
   "metadata": {},
   "outputs": [
    {
     "name": "stdout",
     "output_type": "stream",
     "text": [
      "3.0324015617370605\n",
      "2.9733896255493164\n",
      "2.92195463180542\n",
      "2.964916229248047\n",
      "2.985959529876709\n"
     ]
    }
   ],
   "source": [
    "# make a small working code\n",
    "\n",
    "_,_,input_tensor, output_tensor = load_datapoint()\n",
    "hidden = rnn.init_hidden()\n",
    "\n",
    "for i in range(input_tensor.shape[0]):\n",
    "    m_input = input_tensor[i]\n",
    "    hidden, m_output = rnn(m_input, hidden)\n",
    "    error =  criterion(m_output,output_tensor)\n",
    "    print(error.item())\n",
    "\n",
    "#     # Backpropagation\n",
    "#     loss.backward()\n",
    "#     optimizer.step()\n",
    "#     optimizer.zero_grad()"
   ]
  },
  {
   "cell_type": "code",
   "execution_count": 38,
   "id": "e69d16e2",
   "metadata": {},
   "outputs": [
    {
     "data": {
      "text/plain": [
       "(torch.Size([1, 18]), torch.Size([1]))"
      ]
     },
     "execution_count": 38,
     "metadata": {},
     "output_type": "execute_result"
    }
   ],
   "source": [
    "m_output.shape, output_tensor.shape"
   ]
  },
  {
   "cell_type": "code",
   "execution_count": 39,
   "id": "df6d7f5f",
   "metadata": {},
   "outputs": [
    {
     "data": {
      "text/plain": [
       "torch.int64"
      ]
     },
     "execution_count": 39,
     "metadata": {},
     "output_type": "execute_result"
    }
   ],
   "source": [
    "output_tensor.dtype"
   ]
  },
  {
   "cell_type": "code",
   "execution_count": 40,
   "id": "fabc737a",
   "metadata": {},
   "outputs": [],
   "source": [
    "def train(input_tensor, output_tensor):\n",
    "    \n",
    "    hidden = rnn.init_hidden()\n",
    "    output_tensor = output_tensor.long()\n",
    "    \n",
    "    for i in range(input_tensor.size()[0]):\n",
    "        hidden, m_output = rnn(input_tensor[i], hidden)\n",
    "        \n",
    "    loss = criterion(m_output,output_tensor) # loss calculated at the end. why?\n",
    "        \n",
    "    # Backpropagation\n",
    "    optimizer.zero_grad()\n",
    "    loss.backward()\n",
    "    optimizer.step()\n",
    "\n",
    "    return loss.item(), m_output"
   ]
  },
  {
   "cell_type": "markdown",
   "id": "6e5bdb7a",
   "metadata": {},
   "source": [
    "##### confusion-4: Why is loss calculated at the end of word completely scanned by the network? Why can't we do it before?\n",
    "#### confusion-5: What is batch_sz of 1 indicates here? "
   ]
  },
  {
   "cell_type": "code",
   "execution_count": 41,
   "id": "e50bb367",
   "metadata": {},
   "outputs": [
    {
     "name": "stdout",
     "output_type": "stream",
     "text": [
      "1 : Actual:  English \n",
      "   Pred:  Italian\n",
      "\n",
      "2 : Actual:  Portuguese \n",
      "   Pred:  Dutch\n",
      "\n",
      "3 : Actual:  Polish \n",
      "   Pred:  Polish\n",
      "\n",
      "4 : Actual:  Czech \n",
      "   Pred:  Portuguese\n",
      "\n",
      "5 : Actual:  Greek \n",
      "   Pred:  Greek\n",
      "\n",
      "6 : Actual:  Czech \n",
      "   Pred:  Japanese\n",
      "\n",
      "7 : Actual:  Portuguese \n",
      "   Pred:  Dutch\n",
      "\n",
      "8 : Actual:  Russian \n",
      "   Pred:  Irish\n",
      "\n",
      "9 : Actual:  Spanish \n",
      "   Pred:  Scottish\n",
      "\n",
      "10 : Actual:  English \n",
      "   Pred:  Portuguese\n",
      "\n",
      "11 : Actual:  English \n",
      "   Pred:  Scottish\n",
      "\n",
      "12 : Actual:  Polish \n",
      "   Pred:  Polish\n",
      "\n",
      "13 : Actual:  Italian \n",
      "   Pred:  French\n",
      "\n",
      "14 : Actual:  Scottish \n",
      "   Pred:  Irish\n",
      "\n",
      "15 : Actual:  German \n",
      "   Pred:  Korean\n",
      "\n",
      "16 : Actual:  Polish \n",
      "   Pred:  Polish\n",
      "\n",
      "17 : Actual:  Czech \n",
      "   Pred:  Greek\n",
      "\n",
      "18 : Actual:  Polish \n",
      "   Pred:  Polish\n",
      "\n",
      "19 : Actual:  Vietnamese \n",
      "   Pred:  Korean\n",
      "\n",
      "20 : Actual:  Spanish \n",
      "   Pred:  Italian\n",
      "\n"
     ]
    }
   ],
   "source": [
    "itrs = 100000\n",
    "plot_steps = 5000\n",
    "\n",
    "train_losses = []\n",
    "train_loss = 0\n",
    "counter=0\n",
    "for itr in range(itrs):\n",
    "    \n",
    "    word, language, input_tensor, output_tensor = load_datapoint()\n",
    "    error, pred  = train(input_tensor, output_tensor)\n",
    "    train_loss+=error\n",
    "    \n",
    "    if itr%plot_steps == 0:\n",
    "        train_losses.append(train_loss/plot_steps)\n",
    "        train_loss = 0\n",
    "        counter+=1\n",
    "        print(counter, ':', 'Actual: ', language, '\\n   Pred: ', label_to_language(pred))\n",
    "        print('')\n",
    "        "
   ]
  },
  {
   "cell_type": "code",
   "execution_count": 42,
   "id": "aa1159f9",
   "metadata": {},
   "outputs": [
    {
     "name": "stdout",
     "output_type": "stream",
     "text": [
      "11923/20074 correct\n"
     ]
    }
   ],
   "source": [
    "c_counter = 0\n",
    "t_counter = 0\n",
    "rnn.eval()\n",
    "all_preds = []\n",
    "all_trues = []\n",
    "with torch.no_grad():\n",
    "    for k in range(len(all_categories)):\n",
    "        label = torch.tensor([k], dtype = torch.long)\n",
    "        lang = all_categories[k]\n",
    "        lang_words = category_lines[lang]\n",
    "        for word in lang_words:\n",
    "            input_tensor = name_to_tensor(word)\n",
    "            \n",
    "            hidden = rnn.init_hidden()       \n",
    "            for i in range(input_tensor.shape[0]):\n",
    "                m_input = input_tensor[i]\n",
    "                hidden, m_output = rnn(m_input, hidden)\n",
    "            \n",
    "            \n",
    "            pred = torch.argmax(m_output).item()\n",
    "            pred_lang = all_categories[pred]\n",
    "            \n",
    "            if pred_lang==lang:\n",
    "                c_counter+=1\n",
    "                \n",
    "            t_counter+=1\n",
    "            all_preds.append(pred)\n",
    "            all_trues.append(label)\n",
    "            \n",
    "print(\"{}/{} correct\".format(c_counter,t_counter))"
   ]
  },
  {
   "cell_type": "code",
   "execution_count": 44,
   "id": "4b5d7673",
   "metadata": {},
   "outputs": [
    {
     "data": {
      "text/plain": [
       "<matplotlib.legend.Legend at 0x158769e9550>"
      ]
     },
     "execution_count": 44,
     "metadata": {},
     "output_type": "execute_result"
    },
    {
     "data": {
      "image/png": "[encoded data removed]",
      "text/plain": [
       "<Figure size 500x600 with 1 Axes>"
      ]
     },
     "metadata": {},
     "output_type": "display_data"
    }
   ],
   "source": [
    "plt.figure(figsize=(5,6))\n",
    "plt.plot(train_losses[1:], label = 'train loss')\n",
    "plt.legend()"
   ]
  },
  {
   "cell_type": "markdown",
   "id": "9f39fcd8",
   "metadata": {},
   "source": [
    "### Some more To-dos\n",
    "- [ ] Divide dataset into non-overlapping train and val dataset in 80:20 ratio. \n",
    "- [ ] Write loop for val performance separately\n",
    "- [ ] Resolve confusions\n",
    "- [ ] plot confusion matrix\n",
    "- [ ] Do better weight initialization\n",
    "- [ ] Do lr_scheduling \n",
    "- [ ] write better code regarding evaluation \n",
    "- [ ] Use tensorboard"
   ]
  },
  {
   "cell_type": "code",
   "execution_count": null,
   "id": "b9337bde",
   "metadata": {},
   "outputs": [],
   "source": []
  }
 ],
 "metadata": {
  "kernelspec": {
   "display_name": "Python 3 (ipykernel)",
   "language": "python",
   "name": "python3"
  },
  "language_info": {
   "codemirror_mode": {
    "name": "ipython",
    "version": 3
   },
   "file_extension": ".py",
   "mimetype": "text/x-python",
   "name": "python",
   "nbconvert_exporter": "python",
   "pygments_lexer": "ipython3",
   "version": "3.9.7"
  }
 },
 "nbformat": 4,
 "nbformat_minor": 5
}
